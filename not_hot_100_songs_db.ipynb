{
 "cells": [
  {
   "cell_type": "code",
   "execution_count": 122,
   "id": "a8cc8031",
   "metadata": {},
   "outputs": [],
   "source": [
    "import pandas as pd\n",
    "import requests\n",
    "from bs4 import BeautifulSoup\n",
    "import seaborn as sns\n",
    "import matplotlib.pyplot as plt"
   ]
  },
  {
   "cell_type": "markdown",
   "id": "f3b1e682",
   "metadata": {},
   "source": [
    "### Loading and cleaning initial CSV"
   ]
  },
  {
   "cell_type": "code",
   "execution_count": 120,
   "id": "fb20bcbc",
   "metadata": {},
   "outputs": [
    {
     "name": "stderr",
     "output_type": "stream",
     "text": [
      "/var/folders/y3/f9twdr796bj91_x22w2_mf2h0000gn/T/ipykernel_10048/90249429.py:1: DtypeWarning: Columns (19) have mixed types. Specify dtype option on import or set low_memory=False.\n",
      "  genres = pd.read_csv(\"genres_v2.csv\")\n"
     ]
    }
   ],
   "source": [
    "genres = pd.read_csv(\"genres_v2.csv\")"
   ]
  },
  {
   "cell_type": "code",
   "execution_count": 121,
   "id": "438136a8",
   "metadata": {},
   "outputs": [
    {
     "data": {
      "text/plain": [
       "Index(['danceability', 'energy', 'key', 'loudness', 'mode', 'speechiness',\n",
       "       'acousticness', 'instrumentalness', 'liveness', 'valence', 'tempo',\n",
       "       'type', 'id', 'uri', 'track_href', 'analysis_url', 'duration_ms',\n",
       "       'time_signature', 'genre', 'song_name', 'Unnamed: 0', 'title'],\n",
       "      dtype='object')"
      ]
     },
     "execution_count": 121,
     "metadata": {},
     "output_type": "execute_result"
    }
   ],
   "source": [
    "genres.columns"
   ]
  },
  {
   "cell_type": "code",
   "execution_count": 98,
   "id": "21a53690",
   "metadata": {},
   "outputs": [
    {
     "name": "stdout",
     "output_type": "stream",
     "text": [
      "<class 'pandas.core.frame.DataFrame'>\n",
      "RangeIndex: 42305 entries, 0 to 42304\n",
      "Data columns (total 22 columns):\n",
      " #   Column            Non-Null Count  Dtype  \n",
      "---  ------            --------------  -----  \n",
      " 0   danceability      42305 non-null  float64\n",
      " 1   energy            42305 non-null  float64\n",
      " 2   key               42305 non-null  int64  \n",
      " 3   loudness          42305 non-null  float64\n",
      " 4   mode              42305 non-null  int64  \n",
      " 5   speechiness       42305 non-null  float64\n",
      " 6   acousticness      42305 non-null  float64\n",
      " 7   instrumentalness  42305 non-null  float64\n",
      " 8   liveness          42305 non-null  float64\n",
      " 9   valence           42305 non-null  float64\n",
      " 10  tempo             42305 non-null  float64\n",
      " 11  type              42305 non-null  object \n",
      " 12  id                42305 non-null  object \n",
      " 13  uri               42305 non-null  object \n",
      " 14  track_href        42305 non-null  object \n",
      " 15  analysis_url      42305 non-null  object \n",
      " 16  duration_ms       42305 non-null  int64  \n",
      " 17  time_signature    42305 non-null  int64  \n",
      " 18  genre             42305 non-null  object \n",
      " 19  song_name         21519 non-null  object \n",
      " 20  Unnamed: 0        20780 non-null  float64\n",
      " 21  title             20780 non-null  object \n",
      "dtypes: float64(10), int64(4), object(8)\n",
      "memory usage: 7.1+ MB\n"
     ]
    }
   ],
   "source": [
    "genres.info()"
   ]
  },
  {
   "cell_type": "code",
   "execution_count": 99,
   "id": "d9b21cc0",
   "metadata": {},
   "outputs": [
    {
     "data": {
      "text/html": [
       "<div>\n",
       "<style scoped>\n",
       "    .dataframe tbody tr th:only-of-type {\n",
       "        vertical-align: middle;\n",
       "    }\n",
       "\n",
       "    .dataframe tbody tr th {\n",
       "        vertical-align: top;\n",
       "    }\n",
       "\n",
       "    .dataframe thead th {\n",
       "        text-align: right;\n",
       "    }\n",
       "</style>\n",
       "<table border=\"1\" class=\"dataframe\">\n",
       "  <thead>\n",
       "    <tr style=\"text-align: right;\">\n",
       "      <th></th>\n",
       "      <th>danceability</th>\n",
       "      <th>energy</th>\n",
       "      <th>key</th>\n",
       "      <th>loudness</th>\n",
       "      <th>mode</th>\n",
       "      <th>speechiness</th>\n",
       "      <th>acousticness</th>\n",
       "      <th>instrumentalness</th>\n",
       "      <th>liveness</th>\n",
       "      <th>valence</th>\n",
       "      <th>tempo</th>\n",
       "      <th>duration_ms</th>\n",
       "      <th>time_signature</th>\n",
       "      <th>Unnamed: 0</th>\n",
       "    </tr>\n",
       "  </thead>\n",
       "  <tbody>\n",
       "    <tr>\n",
       "      <th>count</th>\n",
       "      <td>42305.000000</td>\n",
       "      <td>42305.000000</td>\n",
       "      <td>42305.000000</td>\n",
       "      <td>42305.000000</td>\n",
       "      <td>42305.000000</td>\n",
       "      <td>42305.000000</td>\n",
       "      <td>42305.000000</td>\n",
       "      <td>42305.000000</td>\n",
       "      <td>42305.000000</td>\n",
       "      <td>42305.000000</td>\n",
       "      <td>42305.000000</td>\n",
       "      <td>42305.000000</td>\n",
       "      <td>42305.000000</td>\n",
       "      <td>20780.000000</td>\n",
       "    </tr>\n",
       "    <tr>\n",
       "      <th>mean</th>\n",
       "      <td>0.639364</td>\n",
       "      <td>0.762516</td>\n",
       "      <td>5.370240</td>\n",
       "      <td>-6.465442</td>\n",
       "      <td>0.549462</td>\n",
       "      <td>0.136561</td>\n",
       "      <td>0.096160</td>\n",
       "      <td>0.283048</td>\n",
       "      <td>0.214079</td>\n",
       "      <td>0.357101</td>\n",
       "      <td>147.474056</td>\n",
       "      <td>250865.846685</td>\n",
       "      <td>3.972580</td>\n",
       "      <td>10483.970645</td>\n",
       "    </tr>\n",
       "    <tr>\n",
       "      <th>std</th>\n",
       "      <td>0.156617</td>\n",
       "      <td>0.183823</td>\n",
       "      <td>3.666145</td>\n",
       "      <td>2.941165</td>\n",
       "      <td>0.497553</td>\n",
       "      <td>0.126168</td>\n",
       "      <td>0.170827</td>\n",
       "      <td>0.370791</td>\n",
       "      <td>0.175576</td>\n",
       "      <td>0.233200</td>\n",
       "      <td>23.844623</td>\n",
       "      <td>102957.713571</td>\n",
       "      <td>0.268342</td>\n",
       "      <td>6052.359519</td>\n",
       "    </tr>\n",
       "    <tr>\n",
       "      <th>min</th>\n",
       "      <td>0.065100</td>\n",
       "      <td>0.000243</td>\n",
       "      <td>0.000000</td>\n",
       "      <td>-33.357000</td>\n",
       "      <td>0.000000</td>\n",
       "      <td>0.022700</td>\n",
       "      <td>0.000001</td>\n",
       "      <td>0.000000</td>\n",
       "      <td>0.010700</td>\n",
       "      <td>0.018700</td>\n",
       "      <td>57.967000</td>\n",
       "      <td>25600.000000</td>\n",
       "      <td>1.000000</td>\n",
       "      <td>0.000000</td>\n",
       "    </tr>\n",
       "    <tr>\n",
       "      <th>25%</th>\n",
       "      <td>0.524000</td>\n",
       "      <td>0.632000</td>\n",
       "      <td>1.000000</td>\n",
       "      <td>-8.161000</td>\n",
       "      <td>0.000000</td>\n",
       "      <td>0.049100</td>\n",
       "      <td>0.001730</td>\n",
       "      <td>0.000000</td>\n",
       "      <td>0.099600</td>\n",
       "      <td>0.161000</td>\n",
       "      <td>129.931000</td>\n",
       "      <td>179840.000000</td>\n",
       "      <td>4.000000</td>\n",
       "      <td>5255.750000</td>\n",
       "    </tr>\n",
       "    <tr>\n",
       "      <th>50%</th>\n",
       "      <td>0.646000</td>\n",
       "      <td>0.803000</td>\n",
       "      <td>6.000000</td>\n",
       "      <td>-6.234000</td>\n",
       "      <td>1.000000</td>\n",
       "      <td>0.075500</td>\n",
       "      <td>0.016400</td>\n",
       "      <td>0.005940</td>\n",
       "      <td>0.135000</td>\n",
       "      <td>0.322000</td>\n",
       "      <td>144.973000</td>\n",
       "      <td>224760.000000</td>\n",
       "      <td>4.000000</td>\n",
       "      <td>10479.500000</td>\n",
       "    </tr>\n",
       "    <tr>\n",
       "      <th>75%</th>\n",
       "      <td>0.766000</td>\n",
       "      <td>0.923000</td>\n",
       "      <td>9.000000</td>\n",
       "      <td>-4.513000</td>\n",
       "      <td>1.000000</td>\n",
       "      <td>0.193000</td>\n",
       "      <td>0.107000</td>\n",
       "      <td>0.722000</td>\n",
       "      <td>0.294000</td>\n",
       "      <td>0.522000</td>\n",
       "      <td>161.464000</td>\n",
       "      <td>301133.000000</td>\n",
       "      <td>4.000000</td>\n",
       "      <td>15709.250000</td>\n",
       "    </tr>\n",
       "    <tr>\n",
       "      <th>max</th>\n",
       "      <td>0.988000</td>\n",
       "      <td>1.000000</td>\n",
       "      <td>11.000000</td>\n",
       "      <td>3.148000</td>\n",
       "      <td>1.000000</td>\n",
       "      <td>0.946000</td>\n",
       "      <td>0.988000</td>\n",
       "      <td>0.989000</td>\n",
       "      <td>0.988000</td>\n",
       "      <td>0.988000</td>\n",
       "      <td>220.290000</td>\n",
       "      <td>913052.000000</td>\n",
       "      <td>5.000000</td>\n",
       "      <td>20999.000000</td>\n",
       "    </tr>\n",
       "  </tbody>\n",
       "</table>\n",
       "</div>"
      ],
      "text/plain": [
       "       danceability        energy           key      loudness          mode  \\\n",
       "count  42305.000000  42305.000000  42305.000000  42305.000000  42305.000000   \n",
       "mean       0.639364      0.762516      5.370240     -6.465442      0.549462   \n",
       "std        0.156617      0.183823      3.666145      2.941165      0.497553   \n",
       "min        0.065100      0.000243      0.000000    -33.357000      0.000000   \n",
       "25%        0.524000      0.632000      1.000000     -8.161000      0.000000   \n",
       "50%        0.646000      0.803000      6.000000     -6.234000      1.000000   \n",
       "75%        0.766000      0.923000      9.000000     -4.513000      1.000000   \n",
       "max        0.988000      1.000000     11.000000      3.148000      1.000000   \n",
       "\n",
       "        speechiness  acousticness  instrumentalness      liveness  \\\n",
       "count  42305.000000  42305.000000      42305.000000  42305.000000   \n",
       "mean       0.136561      0.096160          0.283048      0.214079   \n",
       "std        0.126168      0.170827          0.370791      0.175576   \n",
       "min        0.022700      0.000001          0.000000      0.010700   \n",
       "25%        0.049100      0.001730          0.000000      0.099600   \n",
       "50%        0.075500      0.016400          0.005940      0.135000   \n",
       "75%        0.193000      0.107000          0.722000      0.294000   \n",
       "max        0.946000      0.988000          0.989000      0.988000   \n",
       "\n",
       "            valence         tempo    duration_ms  time_signature    Unnamed: 0  \n",
       "count  42305.000000  42305.000000   42305.000000    42305.000000  20780.000000  \n",
       "mean       0.357101    147.474056  250865.846685        3.972580  10483.970645  \n",
       "std        0.233200     23.844623  102957.713571        0.268342   6052.359519  \n",
       "min        0.018700     57.967000   25600.000000        1.000000      0.000000  \n",
       "25%        0.161000    129.931000  179840.000000        4.000000   5255.750000  \n",
       "50%        0.322000    144.973000  224760.000000        4.000000  10479.500000  \n",
       "75%        0.522000    161.464000  301133.000000        4.000000  15709.250000  \n",
       "max        0.988000    220.290000  913052.000000        5.000000  20999.000000  "
      ]
     },
     "execution_count": 99,
     "metadata": {},
     "output_type": "execute_result"
    }
   ],
   "source": [
    "genres.describe()"
   ]
  },
  {
   "cell_type": "code",
   "execution_count": 125,
   "id": "43bce37d",
   "metadata": {},
   "outputs": [],
   "source": [
    "genres.dropna(subset=['song_name'], inplace=True)"
   ]
  },
  {
   "cell_type": "code",
   "execution_count": 126,
   "id": "35929580",
   "metadata": {},
   "outputs": [],
   "source": [
    "genres = genres.drop(columns=['Unnamed: 0'])"
   ]
  },
  {
   "cell_type": "code",
   "execution_count": 127,
   "id": "dd361218",
   "metadata": {},
   "outputs": [
    {
     "data": {
      "text/plain": [
       "(21519, 21)"
      ]
     },
     "execution_count": 127,
     "metadata": {},
     "output_type": "execute_result"
    }
   ],
   "source": [
    "genres.shape"
   ]
  },
  {
   "cell_type": "markdown",
   "id": "cea0799d",
   "metadata": {},
   "source": [
    "### Looking at distribution of genres and duration"
   ]
  },
  {
   "cell_type": "code",
   "execution_count": 128,
   "id": "6f5190c0",
   "metadata": {},
   "outputs": [
    {
     "data": {
      "image/png": "[encoded data removed]",
      "text/plain": [
       "<Figure size 640x480 with 1 Axes>"
      ]
     },
     "metadata": {},
     "output_type": "display_data"
    }
   ],
   "source": [
    "# Checking for \n",
    "sns.barplot(data=genres, y=genres.genre.value_counts().index, x=genres.genre.value_counts().values)\n",
    "plt.xticks(rotation=45)\n",
    "plt.show()"
   ]
  },
  {
   "cell_type": "code",
   "execution_count": 129,
   "id": "1b3705c1",
   "metadata": {},
   "outputs": [
    {
     "name": "stderr",
     "output_type": "stream",
     "text": [
      "/Users/HenrySoysa/anaconda3/lib/python3.11/site-packages/seaborn/_oldcore.py:1119: FutureWarning: use_inf_as_na option is deprecated and will be removed in a future version. Convert inf values to NaN before operating instead.\n",
      "  with pd.option_context('mode.use_inf_as_na', True):\n"
     ]
    },
    {
     "data": {
      "image/png": "[encoded data removed]",
      "text/plain": [
       "<Figure size 640x480 with 1 Axes>"
      ]
     },
     "metadata": {},
     "output_type": "display_data"
    }
   ],
   "source": [
    "sns.histplot(data=genres, x='duration_ms')\n",
    "plt.show()"
   ]
  },
  {
   "cell_type": "markdown",
   "id": "33ef2f41",
   "metadata": {},
   "source": [
    "---\n",
    "In order to make the not-hot songs database as heterogenouous as possible in terms of genre, will look to improve the overall distribution of songs per genre to be a uniform distribution."
   ]
  },
  {
   "cell_type": "code",
   "execution_count": 113,
   "id": "5c28df2f",
   "metadata": {},
   "outputs": [
    {
     "name": "stdout",
     "output_type": "stream",
     "text": [
      "375\n"
     ]
    }
   ],
   "source": [
    "# Determine the count of each genre in the original DataFrame\n",
    "genre_counts = genres['genre'].value_counts()\n",
    "\n",
    "# Set a desired sample size for each genre (e.g., 10 songs per genre)\n",
    "desired_sample_size = int(3000/len(genres['genre'].value_counts().index))\n",
    "print(desired_sample_size)\n",
    "\n",
    "# Initialize an empty DataFrame for the sampled data\n",
    "sampled_df = pd.DataFrame()\n",
    "\n",
    "# Iterate through each genre, sample songs, and concatenate to the sampled_df\n",
    "for genre, count in genre_counts.items():\n",
    "    if count >= desired_sample_size:\n",
    "        # If the genre has enough songs, sample the desired number\n",
    "        sampled_genre = genres[genres['genre'] == genre].sample(desired_sample_size, random_state=42)\n",
    "    else:\n",
    "        # If the genre has fewer songs than desired_sample_size, include all available\n",
    "        sampled_genre = genres[genres['genre'] == genre]\n",
    "\n",
    "    sampled_df = pd.concat([sampled_df, sampled_genre])\n",
    "\n",
    "# Reset the index of the sampled DataFrame\n",
    "sampled_df = sampled_df.reset_index(drop=True)\n",
    "\n",
    "# Now, sampled_df contains a more uniform distribution of genres"
   ]
  },
  {
   "cell_type": "code",
   "execution_count": 130,
   "id": "fd11ad40",
   "metadata": {},
   "outputs": [
    {
     "data": {
      "image/png": "[encoded data removed]",
      "text/plain": [
       "<Figure size 640x480 with 1 Axes>"
      ]
     },
     "metadata": {},
     "output_type": "display_data"
    }
   ],
   "source": [
    "# Checking distribution of genres after the sampling of the original dataframe. \n",
    "\n",
    "sns.barplot(data=sampled_df, x=sampled_df.genre.value_counts().index, y=sampled_df.genre.value_counts().values)\n",
    "plt.xticks(rotation=35)\n",
    "plt.show()"
   ]
  },
  {
   "cell_type": "code",
   "execution_count": 131,
   "id": "065a9a6b",
   "metadata": {},
   "outputs": [
    {
     "name": "stderr",
     "output_type": "stream",
     "text": [
      "/Users/HenrySoysa/anaconda3/lib/python3.11/site-packages/seaborn/_oldcore.py:1119: FutureWarning: use_inf_as_na option is deprecated and will be removed in a future version. Convert inf values to NaN before operating instead.\n",
      "  with pd.option_context('mode.use_inf_as_na', True):\n"
     ]
    },
    {
     "data": {
      "image/png": "[encoded data removed]",
      "text/plain": [
       "<Figure size 640x480 with 1 Axes>"
      ]
     },
     "metadata": {},
     "output_type": "display_data"
    }
   ],
   "source": [
    "# Checking the distribution of duration after sampling\n",
    "sns.histplot(data=sampled_df, x='duration_ms')\n",
    "plt.show()"
   ]
  },
  {
   "cell_type": "markdown",
   "id": "2cc155f5",
   "metadata": {},
   "source": [
    "---\n",
    "## Importing hot songs file for comparison and cleaning of not-hot songs"
   ]
  },
  {
   "cell_type": "code",
   "execution_count": 146,
   "id": "812a6677",
   "metadata": {},
   "outputs": [],
   "source": [
    "def scrape_hot100(file_path=\"./top_100_songs.csv\"):\n",
    "    \"\"\"\n",
    "    Inputs: file path to save csv of top 100 songs to\n",
    "    Outputs: csv of top 100 songs\n",
    "    Function: This function will scrape the current top 100 songs from the billboards with artist, rank and title\n",
    "    and save them to a CSV which will then be saved locally on the directory where this function is run. \n",
    "    \"\"\"\n",
    "    # Define URL\n",
    "    url = \"https://www.billboard.com/charts/hot-100\"\n",
    "\n",
    "    # sending request to url\n",
    "    response = requests.get(url)\n",
    "    # Checking response status code\n",
    "    print(response.status_code)\n",
    "    \n",
    "\n",
    "    # Defining soup after parsing for html\n",
    "    soup = BeautifulSoup(response.text, 'html.parser')\n",
    "    \n",
    "    # saving soup of top 100 songs table\n",
    "    table = soup.find(\"div\", {\"class\":\"chart-results-list\"})\n",
    "    \n",
    "    # Retrieving name of songs\n",
    "    titles = [elem.get_text().replace('\\n', '').replace('\\t', '') for elem in table.select(\"div ul li ul li h3\")]\n",
    "    \n",
    "    # Retrieving artists\n",
    "    artists = [elem.get_text().replace('\\n', '').replace('\\t','') for elem in table.select(\"div ul li ul li span.a-no-trucate\")]\n",
    "    \n",
    "    ranks = list(range(1,101))\n",
    "    \n",
    "    df = pd.DataFrame({\"Title\":titles, \"Artist\":artists, \"Rank\":ranks})\n",
    "    \n",
    "    df.to_csv(file_path, index=False)\n",
    "    \n",
    "    print(\"success\")"
   ]
  },
  {
   "cell_type": "code",
   "execution_count": 147,
   "id": "794014e8",
   "metadata": {},
   "outputs": [
    {
     "name": "stdout",
     "output_type": "stream",
     "text": [
      "200\n",
      "success\n",
      "README.md                  playlists.csv\n",
      "genres_v2.csv              top_100_songs.csv\n",
      "not_hot_100_songs_db.ipynb\n"
     ]
    }
   ],
   "source": [
    "scrape_hot100()\n",
    "!ls"
   ]
  },
  {
   "cell_type": "code",
   "execution_count": 152,
   "id": "d59f5025",
   "metadata": {},
   "outputs": [
    {
     "data": {
      "text/html": [
       "<div>\n",
       "<style scoped>\n",
       "    .dataframe tbody tr th:only-of-type {\n",
       "        vertical-align: middle;\n",
       "    }\n",
       "\n",
       "    .dataframe tbody tr th {\n",
       "        vertical-align: top;\n",
       "    }\n",
       "\n",
       "    .dataframe thead th {\n",
       "        text-align: right;\n",
       "    }\n",
       "</style>\n",
       "<table border=\"1\" class=\"dataframe\">\n",
       "  <thead>\n",
       "    <tr style=\"text-align: right;\">\n",
       "      <th></th>\n",
       "      <th>song_name</th>\n",
       "      <th>Artist</th>\n",
       "      <th>Rank</th>\n",
       "    </tr>\n",
       "  </thead>\n",
       "  <tbody>\n",
       "    <tr>\n",
       "      <th>0</th>\n",
       "      <td>Rockin' Around The Christmas Tree</td>\n",
       "      <td>Brenda Lee</td>\n",
       "      <td>1</td>\n",
       "    </tr>\n",
       "    <tr>\n",
       "      <th>1</th>\n",
       "      <td>All I Want For Christmas Is You</td>\n",
       "      <td>Mariah Carey</td>\n",
       "      <td>2</td>\n",
       "    </tr>\n",
       "    <tr>\n",
       "      <th>2</th>\n",
       "      <td>Jingle Bell Rock</td>\n",
       "      <td>Bobby Helms</td>\n",
       "      <td>3</td>\n",
       "    </tr>\n",
       "    <tr>\n",
       "      <th>3</th>\n",
       "      <td>Last Christmas</td>\n",
       "      <td>Wham!</td>\n",
       "      <td>4</td>\n",
       "    </tr>\n",
       "    <tr>\n",
       "      <th>4</th>\n",
       "      <td>A Holly Jolly Christmas</td>\n",
       "      <td>Burl Ives</td>\n",
       "      <td>5</td>\n",
       "    </tr>\n",
       "  </tbody>\n",
       "</table>\n",
       "</div>"
      ],
      "text/plain": [
       "                           song_name        Artist  Rank\n",
       "0  Rockin' Around The Christmas Tree    Brenda Lee     1\n",
       "1    All I Want For Christmas Is You  Mariah Carey     2\n",
       "2                   Jingle Bell Rock   Bobby Helms     3\n",
       "3                     Last Christmas         Wham!     4\n",
       "4            A Holly Jolly Christmas     Burl Ives     5"
      ]
     },
     "execution_count": 152,
     "metadata": {},
     "output_type": "execute_result"
    }
   ],
   "source": [
    "df_hot = pd.read_csv(\"top_100_songs.csv\")\n",
    "df_hot = df_hot.rename(columns={'Title':'song_name'})\n",
    "df_hot.head()"
   ]
  },
  {
   "cell_type": "code",
   "execution_count": 154,
   "id": "90ffe919",
   "metadata": {},
   "outputs": [],
   "source": [
    "def convert_to_lower(x):\n",
    "    '''\n",
    "    Converts a string to lowercase\n",
    "    '''\n",
    "    if isinstance(x, str):\n",
    "        return x.lower()\n",
    "    else:\n",
    "        return x\n",
    "\n",
    "genres['song_name'] = genres['song_name'].apply(convert_to_lower)\n",
    "\n",
    "df_hot['song_name'] = df_hot['song_name'].apply(convert_to_lower)"
   ]
  },
  {
   "cell_type": "markdown",
   "id": "f821ff74",
   "metadata": {},
   "source": [
    "\n",
    "The following code has been commented out as the song titles are not completely unique and require artist next to them in order to truly identify duplicates within hot_songs and not_hot_songs, otherwise songs that are not actually in the hot songs will be removed from the not hot songs due to the songs simply having the same names. \n"
   ]
  },
  {
   "cell_type": "code",
   "execution_count": 155,
   "id": "85411e8d",
   "metadata": {},
   "outputs": [
    {
     "data": {
      "text/plain": [
       "\"rows_to_remove = genres[genres['song_name'].isin(df_hot['song_title'])].index\\n\\ndf_not_hot = genres.drop(rows_to_remove, axis=0)\""
      ]
     },
     "execution_count": 155,
     "metadata": {},
     "output_type": "execute_result"
    }
   ],
   "source": [
    "# removing the songs in the dataframe that are present in the billboard100\n",
    "\n",
    "\"\"\"rows_to_remove = genres[genres['song_name'].isin(df_hot['song_title'])].index\n",
    "\n",
    "df_not_hot = genres.drop(rows_to_remove, axis=0)\"\"\""
   ]
  },
  {
   "cell_type": "code",
   "execution_count": 157,
   "id": "cd146043",
   "metadata": {},
   "outputs": [
    {
     "data": {
      "text/plain": [
       "['houdini',\n",
       " 'idgaf',\n",
       " 'water',\n",
       " 'water',\n",
       " 'last night',\n",
       " 'everybody',\n",
       " 'idgaf',\n",
       " 'water',\n",
       " 'water',\n",
       " 'everybody',\n",
       " 'burn it down',\n",
       " 'strangers',\n",
       " 'everybody',\n",
       " 'water',\n",
       " 'idgaf',\n",
       " 'water']"
      ]
     },
     "execution_count": 157,
     "metadata": {},
     "output_type": "execute_result"
    }
   ],
   "source": [
    "# Checking what song names from not hot df are present in the hot songs. \n",
    "\n",
    "# Conclusion: need to get artist for song in not-hot df in order to truly remove the true duplicates from the not-hot song df\n",
    "\n",
    "shared_song_names = genres[genres['song_name'].isin(df_hot['song_name'])]['song_name'].tolist()\n",
    "shared_song_names"
   ]
  },
  {
   "cell_type": "code",
   "execution_count": null,
   "id": "092885bf",
   "metadata": {},
   "outputs": [],
   "source": []
  }
 ],
 "metadata": {
  "kernelspec": {
   "display_name": "Python 3 (ipykernel)",
   "language": "python",
   "name": "python3"
  },
  "language_info": {
   "codemirror_mode": {
    "name": "ipython",
    "version": 3
   },
   "file_extension": ".py",
   "mimetype": "text/x-python",
   "name": "python",
   "nbconvert_exporter": "python",
   "pygments_lexer": "ipython3",
   "version": "3.11.5"
  }
 },
 "nbformat": 4,
 "nbformat_minor": 5
}
